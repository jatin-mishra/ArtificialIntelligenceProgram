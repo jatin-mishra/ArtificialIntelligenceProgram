{
 "cells": [
  {
   "cell_type": "code",
   "execution_count": 29,
   "metadata": {},
   "outputs": [],
   "source": [
    "import queue\n",
    "import csv\n",
    "import copy"
   ]
  },
  {
   "cell_type": "code",
   "execution_count": 30,
   "metadata": {},
   "outputs": [],
   "source": [
    "def getStartState():\n",
    "    print('enter 9 numbers from 1-8 and one x for empty space for start state : ')\n",
    "    startState = list()\n",
    "    for i in range(3):\n",
    "        isList = input().split()\n",
    "        startState.append(isList)\n",
    "    return startState"
   ]
  },
  {
   "cell_type": "code",
   "execution_count": 31,
   "metadata": {},
   "outputs": [],
   "source": [
    "def getGoalState():\n",
    "    print('enter 9 numbers from 1-8 and one x for empty space for goal state : ')\n",
    "    finalState = []\n",
    "    for i in range(3):\n",
    "        finalList = input().split()\n",
    "        finalState.append(finalList)\n",
    "    return finalState"
   ]
  },
  {
   "cell_type": "code",
   "execution_count": 40,
   "metadata": {},
   "outputs": [],
   "source": [
    "def getCordOfX(curState):\n",
    "    for i in range(3):\n",
    "        if 'x' in curState[i]:\n",
    "            return i,curState[i].index('x')"
   ]
  },
  {
   "cell_type": "code",
   "execution_count": 41,
   "metadata": {},
   "outputs": [],
   "source": [
    "def performAction(newCurState,action):\n",
    "    i,j = getCordOfX(newCurState)\n",
    "    CurState = copy.deepcopy(newCurState)\n",
    "    if action == 'l':\n",
    "        CurState[i][j] = CurState[i][j-1]\n",
    "        CurState[i][j-1] = 'x'\n",
    "        return CurState\n",
    "    elif action == 'r':\n",
    "        CurState[i][j] = CurState[i][j+1]\n",
    "        CurState[i][j+1] = 'x'\n",
    "        return CurState\n",
    "    elif action == 'u':\n",
    "        CurState[i][j] = CurState[i-1][j]\n",
    "        CurState[i-1][j] = 'x'\n",
    "        return CurState\n",
    "    else:\n",
    "        CurState[i][j] = CurState[i+1][j]\n",
    "        CurState[i+1][j] = 'x'\n",
    "        return CurState"
   ]
  },
  {
   "cell_type": "code",
   "execution_count": 42,
   "metadata": {},
   "outputs": [],
   "source": [
    "def getValidActions(curState):\n",
    "\tif curState[0][0] == 'x':\n",
    "\t\treturn ['r','d']\n",
    "\telif curState[0][2] == 'x':\n",
    "\t\treturn ['l','d']\n",
    "\telif curState[2][0] == 'x':\n",
    "\t\treturn ['u','r']\n",
    "\telif curState[2][2] == 'x':\n",
    "\t\treturn ['u','l']\n",
    "\telif curState[0][1] == 'x':\n",
    "\t\treturn ['l','d','r']\n",
    "\telif curState[1][0] == 'x':\n",
    "\t\treturn ['r','d','u']\n",
    "\telif curState[1][2] == 'x':\n",
    "\t\treturn ['l','d','u']\n",
    "\telif curState[2][1] == 'x':\n",
    "\t\treturn ['l','u','r']\n",
    "\telse:\n",
    "\t\treturn ['l','r','u','d']"
   ]
  },
  {
   "cell_type": "code",
   "execution_count": 74,
   "metadata": {},
   "outputs": [],
   "source": [
    "def SearchFor(frontier,state,goal):\n",
    "    curState = state\n",
    "    frontier.put(curState)\n",
    "    explored = []\n",
    "    steps = {}\n",
    "    stateString = str(curState)\n",
    "    steps[stateString] = [curState]\n",
    "    while curState != goal:\n",
    "        curState = frontier.get()\n",
    "        actions = getValidActions(curState)\n",
    "        for action in actions:\n",
    "            newState = performAction(curState,action)\n",
    "            if newState not in explored:\n",
    "                frontier.put(newState)\n",
    "                if str(newState) not in steps:\n",
    "                    lst = copy.deepcopy(steps[str(curState)])\n",
    "                    lst.append(newState)\n",
    "                    newStateString = str(newState)\n",
    "                    steps[newStateString] = lst\n",
    "        explored.append(curState)\n",
    "    stringToReturn = str(curState)\n",
    "    return steps[stringToReturn]"
   ]
  },
  {
   "cell_type": "code",
   "execution_count": 75,
   "metadata": {},
   "outputs": [],
   "source": [
    "def searchWithHeuristics(function,state,goal):\n",
    "\tcurState = state\n",
    "\texplored = []\n",
    "\tpath = {}\n",
    "\tqu = []\n",
    "\tqu.append(curState)\n",
    "\tpath[str(curState)]=[[curState],0]\n",
    "\n",
    "\twhile curState != goal:\n",
    "\t\tactions = getValidActions(curState)\n",
    "\t\tfor action in actions:\n",
    "\t\t\tnewState = performAction(curState,action)\n",
    "\t\t\tif str(newState) not in explored:\n",
    "\t\t\t\tqu.append(newState)\n",
    "\t\t\t\tif str(newState) not in path:\n",
    "\t\t\t\t\tlst = copy.deepcopy(path[str(curState)][0])\n",
    "\t\t\t\t\tlst.append(newState)\n",
    "\t\t\t\t\tpath[str(newState)] = [lst, path[str(curState)][1]+1]\n",
    "\t\t\t\telse:\n",
    "\t\t\t\t\tif path[str(newState)][1] > path[str(curState)][1]+1:\n",
    "\t\t\t\t\t\tdel path[str(newState)]\n",
    "\t\t\t\t\t\tlst = copy.deepcopy(path[str(curState)][0])\n",
    "\t\t\t\t\t\tlst.append(newState)\n",
    "\t\t\t\t\t\tpath[str(newState)] = [lst,path[str(curState)][1]+1]\n",
    "\t\texplored.append(str(curState))\n",
    "\t\tmaxDist = float('inf')\n",
    "\n",
    "\t\tfor state , pathcost in path.items():\n",
    "\t\t\tif state not in explored:\n",
    "\t\t\t\tif function(path, state,goal) < maxDist: \n",
    "\t\t\t\t\tmaxDist = function(path,state,goal)\n",
    "\t\t\t\t\tlstToReturn = path[state][0][len(path[state][0])-1]\n",
    "\t\tqu.remove(curState)\n",
    "\t\tcurState = lstToReturn\n",
    "\n",
    "\treturn path[str(curState)][0]"
   ]
  },
  {
   "cell_type": "code",
   "execution_count": 76,
   "metadata": {},
   "outputs": [],
   "source": [
    "def getMisplaced(lst,goal):\n",
    "\tcount=0\n",
    "\tprint(lst)\n",
    "\tfor i in range(3):\n",
    "\t\tfor j in range(3):\n",
    "\t\t\tif lst[i][j] != goal[i][j]:\n",
    "\t\t\t\tcount+=1\n",
    "\treturn count"
   ]
  },
  {
   "cell_type": "code",
   "execution_count": 77,
   "metadata": {},
   "outputs": [],
   "source": [
    "def functionForAStar(path,state,goal):\n",
    "    return path[state][1] + getMisplaced(path[state][0][len(path[state][0])-1],goal)"
   ]
  },
  {
   "cell_type": "code",
   "execution_count": 78,
   "metadata": {},
   "outputs": [],
   "source": [
    "def AstarSearch(state,goal):\n",
    "    return searchWithHeuristics(functionForAStar,state,goal)"
   ]
  },
  {
   "cell_type": "code",
   "execution_count": 79,
   "metadata": {},
   "outputs": [],
   "source": [
    "def functionForBestFirstSearch(path,state,goal):\n",
    "    return getMisplaced(path[state][0][len(path[state][0])-1],goal)"
   ]
  },
  {
   "cell_type": "code",
   "execution_count": 84,
   "metadata": {},
   "outputs": [],
   "source": [
    "def best_first_search(state,goal):\n",
    "    return searchWithHeuristics(functionForBestFirstSearch,state,goal)\n",
    "    "
   ]
  },
  {
   "cell_type": "code",
   "execution_count": 85,
   "metadata": {},
   "outputs": [],
   "source": [
    "class Agent:\n",
    "    def __init__(self):\n",
    "        self.state = self.getPercept()\n",
    "        self.goal =  self.goal_Formulation()\n",
    "    \n",
    "    def goal_Formulation(self):\n",
    "        lst = getStartState()\n",
    "        return lst\n",
    "    \n",
    "    def getPercept(self):\n",
    "        newlst = getGoalState()\n",
    "        return newlst\n",
    "    \n",
    "    def Search(self):\n",
    "        self.BreadthFirstSearch()\n",
    "        self.DepthFirstSearch()\n",
    "        self.Astar_search()\n",
    "        self.BestFirstSearch()\n",
    "            \n",
    "    def BreadthFirstSearch(self):\n",
    "        print(SearchFor(queue.Queue(),self.state,self.goal))\n",
    "        \n",
    "    def DepthFirstSearch(self):\n",
    "        print(SearchFor(queue.LifoQueue(),self.state,self.goal))\n",
    "    \n",
    "    def Astar_search(self):\n",
    "        print(AstarSearch(self.state,self.goal))\n",
    "        \n",
    "    def BestFirstSearch(self):\n",
    "        print(best_first_search(self.state,self.goal))"
   ]
  },
  {
   "cell_type": "code",
   "execution_count": null,
   "metadata": {},
   "outputs": [],
   "source": [
    "agent = Agent()\n",
    "agent.Search()\n"
   ]
  }
 ],
 "metadata": {
  "kernelspec": {
   "display_name": "Python 3",
   "language": "python",
   "name": "python3"
  },
  "language_info": {
   "codemirror_mode": {
    "name": "ipython",
    "version": 3
   },
   "file_extension": ".py",
   "mimetype": "text/x-python",
   "name": "python",
   "nbconvert_exporter": "python",
   "pygments_lexer": "ipython3",
   "version": "3.7.4"
  }
 },
 "nbformat": 4,
 "nbformat_minor": 2
}
